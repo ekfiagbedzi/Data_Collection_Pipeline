{
 "cells": [
  {
   "cell_type": "markdown",
   "metadata": {},
   "source": [
    "# Data Processing with pandas\n",
    "In this notebook, I am creating a pandas dataframe from the raw JSON data obtained from scrapper, which will subsequently be uploaded to an Amazon S3 bucket"
   ]
  },
  {
   "cell_type": "code",
   "execution_count": 77,
   "metadata": {},
   "outputs": [],
   "source": [
    "# import libraries\n",
    "import os\n",
    "import json\n",
    "\n",
    "import numpy as np\n",
    "import pandas as pd"
   ]
  },
  {
   "cell_type": "code",
   "execution_count": 66,
   "metadata": {},
   "outputs": [
    {
     "name": "stdout",
     "output_type": "stream",
     "text": [
      "dict_keys(['uuids', 'website_ids', 'gene_function', 'spatial_expression_patterns', 'cellular_expression_patterns', 'begining', 'termination', 'detailed_expression_patterns', 'promoters', 'strain_information', 'strain_name', 'date_created', 'source', 'reporter', 'lineage', 'construct', 'created_by', 'construct_info', 'plasmid_name', 'gene', 'transcript', 'promoter_length', 'left', 'forward', 'right', 'reverse', 'vector', 'expressing_strains', 'image_urls'])\n"
     ]
    }
   ],
   "source": [
    "# load raw data\n",
    "with open(\"raw_data/data.json\", \"r\") as f:\n",
    "    data = json.load(f)\n",
    "\n",
    "print(data.keys())"
   ]
  },
  {
   "cell_type": "code",
   "execution_count": 67,
   "metadata": {},
   "outputs": [
    {
     "name": "stdout",
     "output_type": "stream",
     "text": [
      "[('uuids', 75), ('website_ids', 75), ('gene_function', 75), ('spatial_expression_patterns', 75), ('cellular_expression_patterns', 75), ('begining', 75), ('termination', 75), ('detailed_expression_patterns', 75), ('promoters', 75), ('strain_information', 75), ('strain_name', 75), ('date_created', 75), ('source', 75), ('reporter', 75), ('lineage', 75), ('construct', 75), ('created_by', 75), ('construct_info', 75), ('plasmid_name', 75), ('gene', 75), ('transcript', 75), ('promoter_length', 75), ('left', 75), ('forward', 75), ('right', 75), ('reverse', 75), ('vector', 75), ('expressing_strains', 75), ('image_urls', 74)]\n"
     ]
    }
   ],
   "source": [
    "# check if all values of each key are of the same length\n",
    "print(list(zip(data.keys(), [len(value) for value in data.values()])))"
   ]
  },
  {
   "cell_type": "code",
   "execution_count": 68,
   "metadata": {},
   "outputs": [
    {
     "name": "stdout",
     "output_type": "stream",
     "text": [
      "['b7d6bd10-f078-48d2-a8d7-feb6d240e3a4.gif', '08bdee22-4e00-454a-ab5e-86b7d4433e43.gif', '418f1fcb-65f2-40f6-890e-1005104e67da.gif', '6dac24d6-4578-419e-adc1-3bc34269ed7e.gif', '30b09323-d0ef-45a0-ae3a-499f40fa7303.gif', '775b26cd-62d8-4ad3-b2ad-55b745ff7aac.gif', 'bc2b2ee6-33f3-4243-bd5d-c1a990e145fa.gif', '083bbc71-23df-4e5a-b07e-2189282981e9.gif', 'b06d3b17-99f9-495f-bc91-a0c2e39a7015.gif', 'c4d619f9-a514-4d9b-a73e-e32dfc9b1898.gif', '18a14533-bbe2-4b05-abc6-52c835aefeda.gif', '613aaa2c-0167-4c40-b1a0-8854b2e0a9c7.gif', '35795291-7ade-40ed-91d4-cd3bc1066c72.gif', '4d29258f-6eb3-4872-a824-a3e5313bc377.gif', '6fa17b04-8db6-4394-bc58-73b74033cd80.gif', 'e0871642-0435-4dcf-b6ee-049a838d6075.gif', 'aa74eb54-a8b4-4e3e-81bc-58dba3b993a1.gif', 'fdf2b80d-7671-43f6-ba72-8fab10d6a0b4.gif', '693d30b7-7cec-49a8-a3b9-51cd7c80a612.gif', '6d5d3c5a-6f85-4efb-ae3a-b727558dd989.gif', 'f461388e-f781-489a-994f-cee7c5845579.gif', '871b0553-11d2-4ce8-a8b6-d2d59723a02d.gif', '39773b7f-3d28-4fdb-9a99-e06874415639.gif', '35f8f228-4230-4468-a60e-52b5c44de89d.gif', 'a591a34a-db51-4c7d-b8c4-2e8ed086863f.gif', '91dbcdb7-fde2-49eb-b66a-80ea30905970.gif', 'bae56fb7-de57-48aa-b8ba-203ce76d4c5e.gif', 'd2d49cd6-8f42-4a87-9d9d-28eb3dc82563.gif', 'f938bfed-77f5-48e6-9440-3c968481c308.gif', '3e257a83-bee6-4326-94a4-819a1a4de0ca.gif', '86de083b-a9e6-4697-9ee8-0f8519340f37.gif', 'd6699305-0b60-43e2-b19b-fbaedfecc0f4.gif', 'a598c822-fb0b-4298-95b5-96cebd0fb98b.gif', '7fd1041f-de66-4143-8068-28036de8f45c.gif', 'f5fca2a1-1a59-4322-9350-3dd95c2c7ba9.gif', '43b321a9-1beb-47b6-8858-0eb9e640e646.gif', '544e59f9-3c88-4816-a920-498056b28750.gif', '57e5cd49-9587-4d3a-b97e-0087f44733ab.gif', '5c26db06-4cb2-4207-9739-2bb034ab8866.gif', '1c7b6248-78fb-4aea-b3ff-408432df2b2d.gif', '4762f70e-2e8b-425e-8517-804440f6decc.gif', '9da2e265-1e29-423e-958d-10996aeea714.gif', '4a63beb6-4c9a-4a3a-907f-38ee7dbca3a8.gif', '7a0808dc-d773-4f66-b395-fc114d4dbd12.gif', 'abf36ab4-034e-4f6b-8a62-89e2167634d5.gif', 'af42696b-eaf7-4047-9144-1658d0f10e16.gif', '559f299e-bf75-465b-a3eb-feea882a97a7.gif', '99844418-0cbd-406f-8569-538f7392d11d.gif', '70da6fd1-ade7-44bf-9da9-57a823f51ce9.gif', '3f45d371-a76a-464d-9eb5-d3a9f48136bc.gif', '2da71f86-5918-4967-9b34-fe337f2efd43.gif', 'f3cb5302-cbee-4071-ac1a-583acf91d611.gif', 'a282c053-0d6e-4d1a-b337-a12208f61165.gif', '26ab25a6-98ea-4f3d-a5d4-428f6363f5de.gif', 'c6e4e24e-edcb-44d2-a34a-a735b12a91a6.gif', 'fe51097d-e0ae-4b68-b6b7-997fafe25674.gif', '86282c84-79bb-44b1-a2b1-2f452bbf108c.gif', '1ef6bee3-140b-4c2c-b306-ceb1dfde4036.gif', '82767003-90da-40ce-9e69-81bcd710ce62.gif', '2b184676-7cad-4ce5-80b3-2b48ac93d171.gif', '1f87b840-b43b-43e0-ade4-e023f9271c06.gif', 'a86549b7-fd66-4a33-b9ef-32a77492b7c4.gif', '42fce7e0-8c36-4b87-8fdb-1b91ff146994.gif', '7a184ffe-08ed-4a06-b617-71ce8af969da.gif', '3c1c0b35-83b9-48d5-93d1-0a4f4e5e0ce3.gif', 'b3a0ad42-e7d8-406d-9c22-b11ba70506e4.gif', '5eef5f37-593e-4c26-b0d8-141cdd4feb57.gif', 'deb2b5a1-fe63-4111-85ea-ed02039cb942.gif', '3dd4cda4-d55d-4120-962d-1fd91f41440f.gif', 'beb6e1e3-07d3-4b09-90f3-200fb96824ba.gif', 'd930fed8-91a4-412e-974b-aa784a966bcb.gif', '65ea4bcc-e2c4-4406-8473-08652ec2112b.gif', '4d08690c-be9a-45cd-b138-20317c7bb2e5.gif', 'f7ca0ac5-f107-49e6-b55d-16e6805c74c9.gif']\n"
     ]
    }
   ],
   "source": [
    "# get filenames of all downloaded images\n",
    "image_filenames = os.listdir(\"raw_data/images\")\n",
    "print(image_filenames)"
   ]
  },
  {
   "cell_type": "markdown",
   "metadata": {},
   "source": [
    "Image urls are 1 short from all the other values. We need to find the uuid corresponding to the missing url. We can compare the website_ids and image_filenames to find it"
   ]
  },
  {
   "cell_type": "code",
   "execution_count": 69,
   "metadata": {},
   "outputs": [
    {
     "name": "stdout",
     "output_type": "stream",
     "text": [
      "['b7d6bd10-f078-48d2-a8d7-feb6d240e3a4', '08bdee22-4e00-454a-ab5e-86b7d4433e43', '418f1fcb-65f2-40f6-890e-1005104e67da', '6dac24d6-4578-419e-adc1-3bc34269ed7e', '30b09323-d0ef-45a0-ae3a-499f40fa7303', '775b26cd-62d8-4ad3-b2ad-55b745ff7aac', 'bc2b2ee6-33f3-4243-bd5d-c1a990e145fa', '083bbc71-23df-4e5a-b07e-2189282981e9', 'b06d3b17-99f9-495f-bc91-a0c2e39a7015', 'c4d619f9-a514-4d9b-a73e-e32dfc9b1898', '18a14533-bbe2-4b05-abc6-52c835aefeda', '613aaa2c-0167-4c40-b1a0-8854b2e0a9c7', '35795291-7ade-40ed-91d4-cd3bc1066c72', '4d29258f-6eb3-4872-a824-a3e5313bc377', '6fa17b04-8db6-4394-bc58-73b74033cd80', 'e0871642-0435-4dcf-b6ee-049a838d6075', 'aa74eb54-a8b4-4e3e-81bc-58dba3b993a1', 'fdf2b80d-7671-43f6-ba72-8fab10d6a0b4', '693d30b7-7cec-49a8-a3b9-51cd7c80a612', '6d5d3c5a-6f85-4efb-ae3a-b727558dd989', 'f461388e-f781-489a-994f-cee7c5845579', '871b0553-11d2-4ce8-a8b6-d2d59723a02d', '39773b7f-3d28-4fdb-9a99-e06874415639', '35f8f228-4230-4468-a60e-52b5c44de89d', 'a591a34a-db51-4c7d-b8c4-2e8ed086863f', '91dbcdb7-fde2-49eb-b66a-80ea30905970', 'bae56fb7-de57-48aa-b8ba-203ce76d4c5e', 'd2d49cd6-8f42-4a87-9d9d-28eb3dc82563', 'f938bfed-77f5-48e6-9440-3c968481c308', '3e257a83-bee6-4326-94a4-819a1a4de0ca', '86de083b-a9e6-4697-9ee8-0f8519340f37', 'd6699305-0b60-43e2-b19b-fbaedfecc0f4', 'a598c822-fb0b-4298-95b5-96cebd0fb98b', '7fd1041f-de66-4143-8068-28036de8f45c', 'f5fca2a1-1a59-4322-9350-3dd95c2c7ba9', '43b321a9-1beb-47b6-8858-0eb9e640e646', '544e59f9-3c88-4816-a920-498056b28750', '57e5cd49-9587-4d3a-b97e-0087f44733ab', '5c26db06-4cb2-4207-9739-2bb034ab8866', '1c7b6248-78fb-4aea-b3ff-408432df2b2d', '4762f70e-2e8b-425e-8517-804440f6decc', '9da2e265-1e29-423e-958d-10996aeea714', '4a63beb6-4c9a-4a3a-907f-38ee7dbca3a8', '7a0808dc-d773-4f66-b395-fc114d4dbd12', 'abf36ab4-034e-4f6b-8a62-89e2167634d5', 'af42696b-eaf7-4047-9144-1658d0f10e16', '559f299e-bf75-465b-a3eb-feea882a97a7', '99844418-0cbd-406f-8569-538f7392d11d', '70da6fd1-ade7-44bf-9da9-57a823f51ce9', '3f45d371-a76a-464d-9eb5-d3a9f48136bc', '2da71f86-5918-4967-9b34-fe337f2efd43', 'f3cb5302-cbee-4071-ac1a-583acf91d611', 'a282c053-0d6e-4d1a-b337-a12208f61165', '26ab25a6-98ea-4f3d-a5d4-428f6363f5de', 'c6e4e24e-edcb-44d2-a34a-a735b12a91a6', 'fe51097d-e0ae-4b68-b6b7-997fafe25674', '86282c84-79bb-44b1-a2b1-2f452bbf108c', '1ef6bee3-140b-4c2c-b306-ceb1dfde4036', '82767003-90da-40ce-9e69-81bcd710ce62', '2b184676-7cad-4ce5-80b3-2b48ac93d171', '1f87b840-b43b-43e0-ade4-e023f9271c06', 'a86549b7-fd66-4a33-b9ef-32a77492b7c4', '42fce7e0-8c36-4b87-8fdb-1b91ff146994', '7a184ffe-08ed-4a06-b617-71ce8af969da', '3c1c0b35-83b9-48d5-93d1-0a4f4e5e0ce3', 'b3a0ad42-e7d8-406d-9c22-b11ba70506e4', '5eef5f37-593e-4c26-b0d8-141cdd4feb57', 'deb2b5a1-fe63-4111-85ea-ed02039cb942', '3dd4cda4-d55d-4120-962d-1fd91f41440f', 'beb6e1e3-07d3-4b09-90f3-200fb96824ba', 'd930fed8-91a4-412e-974b-aa784a966bcb', '65ea4bcc-e2c4-4406-8473-08652ec2112b', '4d08690c-be9a-45cd-b138-20317c7bb2e5', 'f7ca0ac5-f107-49e6-b55d-16e6805c74c9']\n"
     ]
    }
   ],
   "source": [
    "# parse image_urls to extract website_ids\n",
    "ids = [filename.split(\".gif\")[0] for filename in image_filenames]\n",
    "print(ids)"
   ]
  },
  {
   "cell_type": "code",
   "execution_count": 70,
   "metadata": {},
   "outputs": [
    {
     "data": {
      "text/plain": [
       "{'c1795df8-827d-4a17-8566-5a1f278ee95b'}"
      ]
     },
     "execution_count": 70,
     "metadata": {},
     "output_type": "execute_result"
    }
   ],
   "source": [
    "# get uuid of missing image\n",
    "set(data[\"uuids\"]) - set(ids)"
   ]
  },
  {
   "cell_type": "markdown",
   "metadata": {},
   "source": [
    "A quick check on the website shows that promoter \"test\" is missing an image. Therefore the corresponding image url corresponding to the promoter test."
   ]
  },
  {
   "cell_type": "code",
   "execution_count": 71,
   "metadata": {},
   "outputs": [
    {
     "data": {
      "text/plain": [
       "74"
      ]
     },
     "execution_count": 71,
     "metadata": {},
     "output_type": "execute_result"
    }
   ],
   "source": [
    "# get index of missing image_url\n",
    "data[\"uuids\"].index(\"c1795df8-827d-4a17-8566-5a1f278ee95b\")"
   ]
  },
  {
   "cell_type": "code",
   "execution_count": 74,
   "metadata": {},
   "outputs": [],
   "source": [
    "# move the image uuid of the missing image to the correct index\n",
    "data[\"uuids\"].insert(72, data[\"uuids\"].pop(data[\"uuids\"].index(\"c1795df8-827d-4a17-8566-5a1f278ee95b\")))"
   ]
  },
  {
   "cell_type": "code",
   "execution_count": 78,
   "metadata": {},
   "outputs": [],
   "source": [
    "# insert NA for missing image url\n",
    "data[\"image_urls\"].insert(72, np.nan)"
   ]
  },
  {
   "cell_type": "code",
   "execution_count": 82,
   "metadata": {},
   "outputs": [],
   "source": [
    "# create pandas dataframe\n",
    "dataframe = pd.DataFrame(data)"
   ]
  },
  {
   "cell_type": "code",
   "execution_count": 83,
   "metadata": {},
   "outputs": [],
   "source": [
    "# store data as a pickle file\n",
    "pd.to_pickle(dataframe, \"processsed_data/table.pkl\")"
   ]
  }
 ],
 "metadata": {
  "interpreter": {
   "hash": "033258918218bad17b8b749ba72d9f5ce500477fc2a8df2be89d008491fa6be0"
  },
  "kernelspec": {
   "display_name": "Python 3.9.7 ('base')",
   "language": "python",
   "name": "python3"
  },
  "language_info": {
   "codemirror_mode": {
    "name": "ipython",
    "version": 3
   },
   "file_extension": ".py",
   "mimetype": "text/x-python",
   "name": "python",
   "nbconvert_exporter": "python",
   "pygments_lexer": "ipython3",
   "version": "3.9.7"
  },
  "orig_nbformat": 4
 },
 "nbformat": 4,
 "nbformat_minor": 2
}
